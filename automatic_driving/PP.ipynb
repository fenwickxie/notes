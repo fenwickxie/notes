{
 "cells": [
  {
   "cell_type": "markdown",
   "metadata": {},
   "source": [
    "<style>@import url(../css/auto-number-title.css); </style>\n"
   ]
  },
  {
   "cell_type": "markdown",
   "metadata": {},
   "source": [
    "# Pathing Planning(路径规划)\n",
    "\n",
    "```mermaid\n",
    "mindmap\n",
    "  root(路径规划与轨迹跟踪)\n",
    "    自动驾驶汽车定位-感知-规划-决策-控制概述\n",
    "      定位\n",
    "        绝对定位——GPS卫星定位\n",
    "        相对定位——初始姿态基础上加速度的时间积分\n",
    "      感知\n",
    "        环境感知——借助各种传感器，感知环境信息和车辆信息\n",
    "        多模态融合是难点\n",
    "      规划\n",
    "        对未来时域、空域的车辆一系列动作的计划\n",
    "        全局（宏观）路径规划——已知全局地图，规划车辆当前位置到目的地的路径\n",
    "        局部（微观）路径规划——根据环境感知信息，规划当前实时行驶路径，以实现换道、转弯、躲避障碍物等行为\n",
    "      决策\n",
    "        根据定位、感知、及路径规划信息，决定行驶策略（路线选择、车道选择、是否跟车等等）\n",
    "      控制\n",
    "        转向\n",
    "        驱动\n",
    "        制动\n",
    "    全局路径规划\n",
    "      基于搜索的路径规划\n",
    "        BFS(Breadth-First Searching，广度优先搜索)\n",
    "        DFS(Depth-First Searching，深度优先搜索)\n",
    "        Best-First Searching(最佳优先搜索)\n",
    "        Dijkstra\n",
    "        ACO(Ant Colony Optimization, 蚁群算法)\n",
    "        A\\*\n",
    "        Bidirectional A\\*\n",
    "        Anytime Repairing A\\*\n",
    "        Learning Real-time A\\* (LRTA*)\n",
    "        Real-time Adaptive A\\* (RTAA*)\n",
    "        Lifelong Planning A\\* (LPA*)\n",
    "        Dynamic A\\* (D\\*)\n",
    "        D\\* Lite\n",
    "        Anytime D\\*\n",
    "      基于采样的路径规划\n",
    "        RRT\n",
    "        RRT-Connect\n",
    "        Extended-RRT\n",
    "        Dynamic-RRT\n",
    "        RRT\\*\n",
    "        Informed RRT\\*\n",
    "        RRT* Smart\n",
    "        Anytime RRT\\*\n",
    "        Closed-Loop RRT\\*\n",
    "        Spline-RRT\\*\n",
    "        Fast Marching Trees (FMT\\*)\n",
    "        Batch Informed Trees (BIT\\*)\n",
    "    局部路径规划\n",
    "      多项式曲线法\n",
    "      势场法\n",
    "      贝塞尔曲线法\n",
    "      B样条曲线法\n",
    "    轨迹跟踪与控制\n",
    "      纯跟踪法\n",
    "      Stanley法\n",
    "      PID\n",
    "      MPC\n",
    "\n",
    "```\n",
    "\n",
    "+ 全局路径规划\n",
    "  + 基于搜索的路径规划\n",
    "    + BFS(Breadth-First Searching，广度优先搜索)\n",
    "    + DFS(Depth-First Searching，深度优先搜索)\n",
    "    + Best-First Searching(最佳优先搜索)\n",
    "    + **Dijkstra**\n",
    "    + **ACO(Ant Colony Optimization, 蚁群算法)**\n",
    "    + **A\\***\n",
    "    + Bidirectional A\\*\n",
    "    + Anytime Repairing A\\*\n",
    "    + Learning Real-time A\\* (LRTA*)\n",
    "    + Real-time Adaptive A\\* (RTAA*)\n",
    "    + Lifelong Planning A\\* (LPA*)\n",
    "    + Dynamic A\\* (D\\*)\n",
    "    + D\\* Lite\n",
    "    + Anytime D\\*\n",
    "  + 基于采样的路径规划\n",
    "    + RRT\n",
    "    + RRT-Connect\n",
    "    + Extended-RRT\n",
    "    + Dynamic-RRT\n",
    "    + RRT\\*\n",
    "    + Informed RRT\\*\n",
    "    + RRT* Smart\n",
    "    + Anytime RRT\\*\n",
    "    + Closed-Loop RRT\\*\n",
    "    + Spline-RRT\\*\n",
    "    + Fast Marching Trees (FMT\\*)\n",
    "    + Batch Informed Trees (BIT\\*)\n",
    "+ 局部路径规划\n",
    "  + 多项式曲线法\n",
    "  + 势场法\n",
    "  + 贝塞尔曲线法\n",
    "  + B样条曲线\n"
   ]
  },
  {
   "cell_type": "markdown",
   "metadata": {},
   "source": [
    "## 基于搜索的路径规划\n",
    "\n",
    "通过搜索图形结构来找到最短或最优的路径，其中 A\\* 是最为常用和经典的算法之一\n",
    "\n",
    "```mermaid\n",
    "---\n",
    "title: 路径规划示例\n",
    "---\n",
    "flowchart LR\n",
    "  A((A))<--12-->B((B))\n",
    "  A<--14-->G((G))\n",
    "  B<--7-->F((F))\n",
    "  A<--16-->F\n",
    "  B<--10-->C((C))\n",
    "  G<--9-->F((F))\n",
    "  F<--2-->E((E))\n",
    "  G<--8-->E\n",
    "  F<--6-->C\n",
    "  E<--5-->C\n",
    "  C<--3-->D((D))\n",
    "  E<--4-->D\n",
    "```\n"
   ]
  },
  {
   "cell_type": "markdown",
   "metadata": {},
   "source": [
    "### BFS\n",
    "\n",
    "+ 优点：可找到最短路径；适用于无权图\n",
    "+ 缺点：时间复杂度高；空间复杂度高\n"
   ]
  },
  {
   "cell_type": "markdown",
   "metadata": {},
   "source": [
    "### DFS\n",
    "\n",
    "<p align='center'><img src='./asserts/DFS.webp' width='30%'></p>\n",
    "+ 优点：空间复杂度低\n",
    "+ 缺点：可能会陷入死循环；不一定能找到最短路径\n"
   ]
  },
  {
   "cell_type": "markdown",
   "metadata": {},
   "source": [
    "### Best-First Searching\n",
    "\n",
    "+ 优点：速度快；可以处理启发式信息\n",
    "+ 缺点：可能会陷入局部最优解\n"
   ]
  },
  {
   "cell_type": "markdown",
   "metadata": {},
   "source": [
    "### <font color=Red>**Dijkstra**</font>\n",
    "\n",
    "一种用于求解图中单源最短路径问题的经典算法，可以用来找到从一个顶点到其他所有顶点的最短路径。可以应用于有向图或无向图。该算法通过不断更新起点到各个顶点的最短路径来找到最终的最短路径。Dijkstra算法的时间复杂度为 $O(V^2)$ ，其中`V`为顶点数，但可以通过优先队列实现最小堆来优化时间复杂度。\n",
    "\n",
    "+ 算法思想\n",
    "  + 设`G=(V,E)`是一个带权有向图，把图中节点集合分为两组，<font color=Red>第一组为已求出最短路径的节点集合</font>（用`S`表示，初始时`S`中只有一个源点，以后每求得一条最短路径，就将该节点加入到`S`中，知道全部节点都加入`S`）\n",
    "  + <font color=Red>第二组为其余未确定最短路径的节点集合</font>（用U表示），按最短路径递增次序依次把第二组节点加入S中\n",
    "    + 初始时，`S`只包含起点`s`，`U`包含除`s`以外的其他节点，`U`中节点`v`和`s`不相邻则距离为 $\\infty$\n",
    "    + 从U中选出“距离最短的节点`k`”，将`k`移入`S`中，并从`U`中移除`k`\n",
    "    + 更新U中各节点到起点`s`的距离，利用`k`更新其他节点的距离（`(s,v)`可能大于`(s,k)+(k,v)`）\n",
    "    + 重复步骤2、3，直到遍历所有节点\n",
    "\n"
   ]
  },
  {
   "cell_type": "code",
   "execution_count": 2,
   "metadata": {
    "scrolled": true
   },
   "outputs": [
    {
     "name": "stdout",
     "output_type": "stream",
     "text": [
      "[[ 4  0]\r\n",
      " [ 3  3]\r\n",
      " [ 5  4]\r\n",
      " [ 6  6]\r\n",
      " [ 7 12]\r\n",
      " [ 2 13]\r\n",
      " [ 1 22]]\r\n",
      "[4 5 6 1]\r\n"
     ]
    }
   ],
   "source": [
    "# 代码实现\n",
    "import numpy as np\n",
    "\n",
    "\"\"\"图定义\n",
    "A-B-C-D-E-F-G\n",
    "1-2-3-4-5-6-7\n",
    "\"\"\"\n",
    "\n",
    "nodes_dict = {\n",
    "    1: np.asarray([[2, 6, 7], [12, 16, 14]], np.float32).T,\n",
    "    2: np.asarray([[1, 3, 6], [12, 10, 7]], np.float32).T,\n",
    "    3: np.asarray([[2, 4, 5, 6], [10, 3, 5, 6]], np.float32).T,\n",
    "    4: np.asarray([[3, 5], [3, 4]], np.float32).T,\n",
    "    5: np.asarray([[3, 4, 6, 7], [5, 4, 2, 8]], np.float32).T,\n",
    "    6: np.asarray([[1, 2, 3, 5, 7], [16, 7, 6, 2, 9]], np.float32).T,\n",
    "    7: np.asarray([[1, 5, 6], [14, 8, 9]], np.float32).T\n",
    "}\n",
    "\n",
    "\"\"\"算法初始化\n",
    "S/U的第一列表示节点编号\n",
    "对于`S`，第二列表示从源节点到本节点已求出的最小距离，不再变更\n",
    "对于`U`，第二列表示从源节点到本节点暂得的最小距离，可能变更\n",
    "\"\"\"\n",
    "S = np.asarray([[4, 0]], np.float32)\n",
    "U = np.zeros([6, 2], np.float32)\n",
    "U[:, 0] = [1, 2, 3, 5, 6, 7]\n",
    "U[:, 1] = ['inf', 'inf', 3, 4, 'inf', 'inf']\n",
    "\n",
    "# 最优路径及暂时最优路径的初始化\n",
    "path_option = {4: [4]}\n",
    "path_temp = {3: [4, 3], 4: [4], 5: [4, 5]}\n",
    "\n",
    "while U.size != 0:\n",
    "    dist_min = np.min(U[:, 1])\n",
    "    row_idx = np.argmin(U[:, 1])\n",
    "    node_min = U[row_idx, 0]\n",
    "    S = np.concatenate((S, [[node_min, dist_min]]))\n",
    "    U = np.delete(U, row_idx, 0)\n",
    "    \n",
    "    # 将最小距离的节点添加到最优路径集合\n",
    "    path_option[node_min] = path_temp[node_min]\n",
    "    \n",
    "    # 遍历最小距离节点的邻节点，判断是否在U集合中更新邻节点的距离\n",
    "    nearby_nodes = nodes_dict[node_min][:, 0]\n",
    "    for n in range(len(nearby_nodes)):\n",
    "        node_temp = nearby_nodes[n]  # 节点\n",
    "        idx_temp = np.where(U[:, 0] == node_temp)  # 节点在U索引\n",
    "        if node_temp in U[:, 0]:  # 判断节点是否在U集合中\n",
    "            if dist_min + nodes_dict[node_min][:, 1][n] < U[idx_temp, 1]:\n",
    "                U[idx_temp, 1] = dist_min + nodes_dict[node_min][:, 1][n]\n",
    "                \n",
    "                # 更新暂时最优路径\n",
    "                path_temp[node_temp] = path_option[node_min] + [node_temp]\n",
    "\n",
    "print(np.asarray(S, dtype = np.int8))\n",
    "print(np.asarray(path_option[1], dtype = np.int8))"
   ]
  },
  {
   "cell_type": "markdown",
   "metadata": {},
   "source": [
    "<p align='center'><img src='./asserts/Dijkstra.webp' width='30%'></p>\n",
    "+ 优点：可以找到最短路径；适用于有权图\n",
    "+ 缺点：时间复杂度高；不能处理负权边\n"
   ]
  },
  {
   "cell_type": "markdown",
   "metadata": {},
   "source": [
    "### ACO\n",
    "\n",
    "模拟蚂蚁的觅食行为，每只蚂蚁在经过的路径释放信息素，蚂蚁倾向于走最短路径，信息素浓度表征路径的远近\n",
    "较短路径上蚂蚁的往返时间比较短，单位时间内经过该路径的蚂蚁多，所以信息素的积累速度比较长路径快\n",
    "其他路径上的信息素会随着时间蒸发，最终所有的蚂蚁都在最优路径上行进\n",
    "\n",
    "+ 数学描述<br>\n",
    "  设蚁群中蚂蚁数量为 $m$ ，城市数量为 $n$ ，城市i与城市j之间的距离为 $d_{ij}(i,j=1,2,\\ldots,n)$ ， $t$ 时刻城市 $i$ 与城市 $j$ 链接路径上的信息素浓度为 $\\tau_{ij}(t),\\tau_{ij}(0)=0$ 。\n",
    "  蚂蚁 $k$ 根据各城市连接道路上的信息素浓度决定下一个访问城市，设 $P_{ij}^{k}(t)$ 表示 $t$ 时刻蚂蚁 $k$ 从城市 $i$ 转移到城市 $j$ 的概率，其计算公式如下:\n",
    "  + 对于每只蚂蚁 $k$ ，路径记忆向量 $R^k$ 按照访问顺序记录了所有k已经经过的城市序号\n",
    "    + 设蚂蚁 $k$ 当前所在城市为 $i$ ，则其选择城市 $j$ 作为下一个访问对象的概率如上式\n",
    "    + $J_k(i)$ 表示从城市 $i$ 可以直接到达的、且又不在蚂蚁访问过的城市序列中的城市集合\n",
    "    + $\\tau_{ij}$ 表示边 $(i,j)$ 上的信息素量\n",
    "    + $\\eta_{ij}$ 是一个启发式信息，通常为 $\\eta_{ij}=\\frac{1}{d_{ij}}$ ,表示蚂蚁从城市i转移到城市j的期望程度\n",
    "  + 长度越短、信息素浓度越大的路径被蚂蚁选择的概率越大\n",
    "    + $\\alpha$ 和 $\\beta$ 是两个预先设置的参数，用来控制启发式信息与信息素浓度作用的权重关系\n",
    "    + 当 $\\alpha=0$ 时，算法演变成传统的随机贪心算法，最邻近城市被选中的概率最大\n",
    "    + 当 $\\beta=0$ 时，蚂蚁完全只根据信息素浓度确定路径，算法将快速收敛，这样构建出的最优路径往往与实际目标有着较大的差异，算法的性能比较糟糕\n",
    "\n",
    "$$\n",
    "P_{ij}^{k}(t)=\n",
    "\\begin{cases}\n",
    "\\frac{\\left[\\tau_{ij}(t)\\right]^{\\alpha}\\left[\\eta_{ij} (t)\\right]^{\\beta}}{\\sum_{u\\in J_{k} (i)}\\left[\\tau(i,u)\\right]^{\\alpha}\\left[\\eta(i,u)\\right]^{\\beta}}& j\\in J_{k}(i)\\\\\n",
    "0& j\\notin J_{k}(i)\n",
    "\\end{cases}  \n",
    "$$\n",
    "\n",
    "+ 信息素更新\n",
    "    1. 在算法初始化时，问题空间中所有的边上的信息素都被初始化为 $t_0$\n",
    "    2. 算法迭代每一轮，问题空间中的所有路径上的信息素都会发生蒸发，我们为所有边上的信息素乘上一个小于1的常数。信息素蒸发是自然界本身固有的特征，在算法中能够帮助避免信息素的无限积累，使得算法可以快速丢弃之前构建过的较差的路径\n",
    "    3. 蚂蚁根据自己构建的路径长度在它们本轮经过的边上释放信息素\n",
    "        + 蚂蚁构建的路径越短、释放的信息素就越多\n",
    "        + 一条边被蚂蚁爬过的次数越多、它所获得的信息素也越多\n",
    "    4. 迭代（2），直至算法终止\n",
    "\n",
    "$$\n",
    "\\tau_{ij}(t+1)=(1-\\rho)\\cdot \\tau_{ij}(t)+\\sum_{k=1}^{m} \\Delta \\tau_{ij}^{k}\n",
    "$$\n",
    "\n",
    "+ 不同模型的信息素释放浓度计算\n",
    "  + ant cycle system模型\n",
    "    + m是蚂蚁个数\n",
    "    + $\\rho\\in(0,1]$ 是信息素的蒸发率\n",
    "    + $\\Delta\\tau^{k}$ 是第`k`只蚂蚁在它经过的边上释放的信息素量\n",
    "    + $C^k$ 表示路径长度，它是 $R^k$ 中所有边的长度和。\n",
    "\n",
    "$$\n",
    "\\Delta \\tau_{ij}^{k}=\n",
    "\\begin{cases}\n",
    "\\frac{Q}{C^{k}}, & (i,j)\\in R^k \\\\\n",
    "0,& oherwise\n",
    "\\end{cases}\n",
    "$$\n"
   ]
  },
  {
   "cell_type": "markdown",
   "metadata": {},
   "source": [
    "### 动态规划算法\n",
    "\n",
    "把多阶段决策问题转换为一系列单阶段最优化问题\n",
    "<p align='center'><img src='./asserts/多阶段决策示意图.jpeg' width='40%'></p>\n",
    "\n",
    "+ 逆向寻优，正向求解\n",
    "+ DP算法本质由三层循环构成\n",
    "  + 第一层遍历每个阶段\n",
    "  + 第二层遍历第i个阶段的每个状态\n",
    "  + 第三层循环遍历第i+1阶段的每个状态\n",
    "\n",
    "<p align='center'><img src='./asserts/DP.jpeg' width='40%'></p>\n",
    "\n",
    "\n"
   ]
  },
  {
   "cell_type": "markdown",
   "metadata": {},
   "source": [
    "### <font color=Red>**A\\***</font>\n",
    "\n",
    "A\\*算法是一种启发式搜索算法，它结合了Dijkstra算法和贪婪最佳优先搜索算法的优点。A\\*算法通过估计从当前节点到目标节点的代价来动态调整搜索方向，从而更快地找到最佳路径。\n",
    "<p align='center'><img src='./asserts/A_star.webp' width='30%'></p>\n",
    "\n",
    "+ 优点：速度快；可以处理启发式信息；可以找到最短路径\n",
    "+ 缺点：可能会陷入局部最优解\n"
   ]
  },
  {
   "cell_type": "markdown",
   "metadata": {},
   "source": [
    "### Bidirectional A\\*\n",
    "\n",
    "+ 优点：速度快；可以找到最短路径\n",
    "+ 缺点：需要存储两个搜索树；可能会出现问题，例如搜索空间过大或搜索树生长过慢\n"
   ]
  },
  {
   "cell_type": "markdown",
   "metadata": {},
   "source": [
    "### Anytime Repairing A\\*\n",
    "\n",
    "<p align='center'><img src='./asserts/ARA_star.webp' width='30%'></p>\n",
    "\n",
    "+ 优点：可以在任何时候停止搜索并返回最佳路径；可以处理启发式信息\n",
    "+ 缺点：可能会陷入局部最优解\n"
   ]
  },
  {
   "cell_type": "markdown",
   "metadata": {},
   "source": [
    "### Learning Real-time A\\* (LRTA*，实时学习 A\\*)\n",
    "\n",
    "+ 优点：可以处理动态环境；可以处理启发式信息。\n",
    "+ 缺点：需要进行实时计算，可能会导致性能问题\n"
   ]
  },
  {
   "cell_type": "markdown",
   "metadata": {},
   "source": [
    "### Real-time Adaptive A\\* (RTAA\\*，实时自适应 A\\*)\n",
    "\n",
    "+ 优点：可以处理动态环境；可以处理启发式信息\n",
    "+ 缺点：需要进行实时计算，可能会导致性能问题\n"
   ]
  },
  {
   "cell_type": "markdown",
   "metadata": {},
   "source": [
    "### Lifelong Planning A\\* (LPA\\*，终身规划 A\\*)\n",
    "\n",
    "+ 优点：可以在不同的时间段进行搜索；可以处理启发式信息\n",
    "+ 缺点：需要存储大量的搜索树\n"
   ]
  },
  {
   "cell_type": "markdown",
   "metadata": {},
   "source": [
    "### Dynamic A\\* (D\\*，动态 A\\*)\n",
    "\n",
    "+ 优点：可以处理动态环境；可以处理启发式信息\n",
    "+ 缺点：需要存储大量的搜索树。"
   ]
  },
  {
   "cell_type": "markdown",
   "metadata": {},
   "source": [
    "### D* Lite\n",
    "\n",
    "+ 优点：可以处理动态环境；可以处理启发式信息；空间复杂度低\n",
    "+ 缺点：可能会陷入局部最优解。"
   ]
  },
  {
   "cell_type": "markdown",
   "metadata": {},
   "source": [
    "### Anytime D*\n",
    "\n",
    "+ 优点：可以在任何时候停止搜索并返回最佳路径；可以处理动态环境；可以处理启发式信息\n",
    "+ 缺点：可能会陷入局部最优解。"
   ]
  },
  {
   "cell_type": "markdown",
   "metadata": {},
   "source": [
    "## 基于采样的路径规划\n",
    "\n",
    "适用于复杂环境中的路径规划，如机器人导航、无人驾驶和物流配送等领域"
   ]
  },
  {
   "cell_type": "markdown",
   "metadata": {},
   "source": [
    "### <font color=Red>RRT(Rapidly-Exploring Random Trees, 快速探索随机树)</font>\n",
    "\n",
    "  RRT（Rapidly-exploring Random Tree）算法是一种适用于高维空间的路径规划算法，它通过随机采样和不断扩展树形结构来搜索路径\n",
    "  \n",
    "<p align='center'><img src='./asserts/rrt_star.webp', width=50%></p>\n",
    "\n",
    "+ 优点：适用于高维空间；能够有效处理复杂环境；运算速度较快\n",
    "+ 缺点：无法保证找到最优解；生成的路径可能不是最短路径;算法的运算效率不高，随机树搜索漫无目的\n",
    "\n",
    "<p align='center'><img src='./asserts/rrt_algorithm.webp', width=50%></p>\n",
    "\n",
    "+ RANDOM_STATE()函数在设定的环境内部产生随机点\n",
    "+ NEAREST_NEIGHBOR()函数遍历随机树，找出距离随机点最近的节点\n",
    "+ SELECT_INPUT()函数按照已设定好的值扩展随机树\n",
    "+ NEW_STATE()函数生成\n",
    "+ judge($x_{new}$)函数判断新生成的节点是否满足非完整约束\n",
    "+ T.add_vertex()插入$x_{new}$\n",
    "+ T .add _ edge()为$x_{near}$到$x_{new}$之间加上一条边"
   ]
  },
  {
   "cell_type": "markdown",
   "metadata": {},
   "source": [
    "### Goal-Biased RRT(基于目标的RRT算法)\n",
    "\n",
    "  为了高算法的效率，希望随机树的搜索并不是完全漫无目的的，希望随机树尽可能向着目标方向搜索，以加快搜索速度。\n",
    "具体的操作方法是：人为的引导随机点的生成。在产生随机点$x_{rand}$时，以一定的概率选取目标点作为循环中的$x_{rand}$，即$x_{rand}=x_{goal}$。\n",
    "$x_{rand}$在随机树扩展中相当于给定一个扩展的方向，以一定的概率将目标点作为$x_{rand}$，就等价于驱使随机树向着目标方向扩展，将图1展示的算法流程中RANDOM_STATE()函数改写为如下形式：\n",
    "<p align='center'><img src='https://pic3.zhimg.com/80/v2-258ad3b341de84dea71532c5700c06a4_720w.webp', width=50%></p>"
   ]
  },
  {
   "cell_type": "markdown",
   "metadata": {},
   "source": [
    "### RRT-Connect\n",
    "\n",
    "+ 优点：可以保证找到可行路径；适用于多机器人路径规划问题\n",
    "+ 缺点：路径质量可能较差；可能收敛速度较慢。"
   ]
  },
  {
   "cell_type": "markdown",
   "metadata": {},
   "source": [
    "### Extended-RRT\n",
    "\n",
    "+ 优点：能够处理非完整动力学系统；适用于多机器人协同规划\n",
    "+ 缺点：路径质量可能较差；运算速度较慢"
   ]
  },
  {
   "cell_type": "markdown",
   "metadata": {},
   "source": [
    "### Dynamic-RRT\n",
    "\n",
    "![D-RRT](https://ucc.alicdn.com/pic/developer-ecology/cdzfr5ewdwyaw_c9526c89334c4765ae4ae80550f9e71f.gif?x-oss-process=image%2Fresize%2Cw_1400%2Fformat%2Cwebp)\n",
    "\n",
    "+ 优点：能够处理动态环境中的路径规划问题；适用于移动机器人和无人机等领域\n",
    "+ 缺点：运算速度较慢；路径质量可能较差"
   ]
  },
  {
   "cell_type": "code",
   "execution_count": null,
   "metadata": {
    "scrolled": true
   },
   "outputs": [],
   "source": [
    "# --------Visualization specialized for dynamic RRT\n",
    "    def visualization(self):\n",
    "        if self.ind % 100 == 0 or self.done:\n",
    "            V = np.array(self.V)\n",
    "            Path = np.array(self.Path)\n",
    "            start = self.env.start\n",
    "            goal = self.env.goal\n",
    "            # edges = []\n",
    "            # for i in self.Parent:\n",
    "            #     edges.append([i, self.Parent[i]])\n",
    "            edges = np.array([list(i) for i in self.Edge])\n",
    "            ax = plt.subplot(111, projection='3d')\n",
    "            # ax.view_init(elev=0.+ 0.03*initparams.ind/(2*np.pi), azim=90 + 0.03*initparams.ind/(2*np.pi))\n",
    "            # ax.view_init(elev=0., azim=90.)\n",
    "            ax.view_init(elev=90., azim=0.)\n",
    "            ax.clear()\n",
    "            # drawing objects\n",
    "            draw_Spheres(ax, self.env.balls)\n",
    "            draw_block_list(ax, self.env.blocks)\n",
    "            if self.env.OBB is not None:\n",
    "                draw_obb(ax, self.env.OBB)\n",
    "            draw_block_list(ax, np.array([self.env.boundary]), alpha=0)\n",
    "            draw_line(ax, edges, visibility=0.75, color='g')\n",
    "            draw_line(ax, Path, color='r')\n",
    "            # if len(V) > 0:\n",
    "            #     ax.scatter3D(V[:, 0], V[:, 1], V[:, 2], s=2, color='g', )\n",
    "            ax.plot(start[0:1], start[1:2], start[2:], 'go', markersize=7, markeredgecolor='k')\n",
    "            ax.plot(goal[0:1], goal[1:2], goal[2:], 'ro', markersize=7, markeredgecolor='k')\n",
    "            # adjust the aspect ratio\n",
    "            set_axes_equal(ax)\n",
    "            make_transparent(ax)\n",
    "            # plt.xlabel('s')\n",
    "            # plt.ylabel('y')\n",
    "            ax.set_axis_off()\n",
    "            plt.pause(0.0001)\n",
    "if __name__ == '__main__':\n",
    "    rrt = dynamic_rrt_3D()\n",
    "    rrt.Main()"
   ]
  },
  {
   "cell_type": "code",
   "execution_count": null,
   "metadata": {
    "scrolled": true
   },
   "outputs": [],
   "source": [
    "### RRT*(Rapidly-Exploring Random Trees Star, 快速探索随机树星)\n",
    "\n",
    "+ 优点：能够找到最优路径；路径质量较高\n",
    "+ 缺点：运算速度较慢；可能需要大量的存储空间"
   ]
  },
  {
   "cell_type": "code",
   "execution_count": null,
   "metadata": {
    "scrolled": true
   },
   "outputs": [],
   "source": [
    "### Informed RRT*\n",
    "\n",
    "+ 优点：结合了启发式信息，能够加速搜索过程；能够找到近似最优解\n",
    "+ 缺点：运算速度较慢；路径质量可能较差"
   ]
  },
  {
   "cell_type": "code",
   "execution_count": null,
   "metadata": {
    "scrolled": true
   },
   "outputs": [],
   "source": [
    "### RRT* Smart\n",
    "\n",
    "+ 优点：通过智能采样策略提高搜索效率；能够找到最优路径\n",
    "+ 缺点：运算速度较慢；路径质量可能较差"
   ]
  },
  {
   "cell_type": "code",
   "execution_count": null,
   "metadata": {
    "scrolled": true
   },
   "outputs": [],
   "source": [
    "class Node:\n",
    "    def __init__(self, n):\n",
    "        self.x = n[0]\n",
    "        self.y = n[1]\n",
    "        self.parent = None\n",
    "\n",
    "class RrtStarSmart:\n",
    "    def __init__(self, x_start, x_goal, step_len,\n",
    "                 goal_sample_rate, search_radius, iter_max):\n",
    "        self.x_start = Node(x_start)\n",
    "        self.x_goal = Node(x_goal)\n",
    "        self.step_len = step_len\n",
    "        self.goal_sample_rate = goal_sample_rate\n",
    "        self.search_radius = search_radius\n",
    "        self.iter_max = iter_max\n",
    "\n",
    "        self.env = env.Env()\n",
    "        self.plotting = plotting.Plotting(x_start, x_goal)\n",
    "        self.utils = utils.Utils()\n",
    "\n",
    "        self.fig, self.ax = plt.subplots()\n",
    "        self.delta = self.utils.delta\n",
    "        self.x_range = self.env.x_range\n",
    "        self.y_range = self.env.y_range\n",
    "        self.obs_circle = self.env.obs_circle\n",
    "        self.obs_rectangle = self.env.obs_rectangle\n",
    "        self.obs_boundary = self.env.obs_boundary\n",
    "\n",
    "        self.V = [self.x_start]\n",
    "        self.beacons = []\n",
    "        self.beacons_radius = 2\n",
    "        self.direct_cost_old = np.inf\n",
    "        self.obs_vertex = self.utils.get_obs_vertex()\n",
    "        self.path = None\n",
    "\n",
    "    def planning(self):\n",
    "        n = 0\n",
    "        b = 2\n",
    "        InitPathFlag = False\n",
    "        self.ReformObsVertex()\n",
    "\n",
    "        for k in range(self.iter_max):\n",
    "            if k % 200 == 0:\n",
    "                print(k)\n",
    "\n",
    "            if (k - n) % b == 0 and len(self.beacons) > 0:\n",
    "                x_rand = self.Sample(self.beacons)\n",
    "            else:\n",
    "                x_rand = self.Sample()\n",
    "\n",
    "            x_nearest = self.Nearest(self.V, x_rand)\n",
    "            x_new = self.Steer(x_nearest, x_rand)\n",
    "\n",
    "            if x_new and not self.utils.is_collision(x_nearest, x_new):\n",
    "                X_near = self.Near(self.V, x_new)\n",
    "                self.V.append(x_new)\n",
    "\n",
    "                if X_near:\n",
    "                    # choose parent\n",
    "                    cost_list = [self.Cost(x_near) + self.Line(x_near, x_new) for x_near in X_near]\n",
    "                    x_new.parent = X_near[int(np.argmin(cost_list))]\n",
    "\n",
    "                    # rewire\n",
    "                    c_min = self.Cost(x_new)\n",
    "                    for x_near in X_near:\n",
    "                        c_near = self.Cost(x_near)\n",
    "                        c_new = c_min + self.Line(x_new, x_near)\n",
    "                        if c_new < c_near:\n",
    "                            x_near.parent = x_new\n",
    "\n",
    "                if not InitPathFlag and self.InitialPathFound(x_new):\n",
    "                    InitPathFlag = True\n",
    "                    n = k\n",
    "\n",
    "                if InitPathFlag:\n",
    "                    self.PathOptimization(x_new)\n",
    "                if k % 5 == 0:\n",
    "                    self.animation()\n",
    "\n",
    "        self.path = self.ExtractPath()\n",
    "        self.animation()\n",
    "        plt.plot([x for x, _ in self.path], [y for _, y in self.path], '-r')\n",
    "        plt.pause(0.01)\n",
    "        plt.show()\n",
    "\n",
    "    def PathOptimization(self, node):\n",
    "        direct_cost_new = 0.0\n",
    "        node_end = self.x_goal\n",
    "\n",
    "        while node.parent:\n",
    "            node_parent = node.parent\n",
    "            if not self.utils.is_collision(node_parent, node_end):\n",
    "                node_end.parent = node_parent\n",
    "            else:\n",
    "                direct_cost_new += self.Line(node, node_end)\n",
    "                node_end = node\n",
    "\n",
    "            node = node_parent\n",
    "\n",
    "        if direct_cost_new < self.direct_cost_old:\n",
    "            self.direct_cost_old = direct_cost_new\n",
    "            self.UpdateBeacons()\n",
    "\n",
    "    def UpdateBeacons(self):\n",
    "        node = self.x_goal\n",
    "        beacons = []\n",
    "\n",
    "        while node.parent:\n",
    "            near_vertex = [v for v in self.obs_vertex\n",
    "                           if (node.x - v[0]) ** 2 + (node.y - v[1]) ** 2 < 9]\n",
    "            if len(near_vertex) > 0:\n",
    "                for v in near_vertex:\n",
    "                    beacons.append(v)\n",
    "\n",
    "            node = node.parent\n",
    "\n",
    "        self.beacons = beacons\n",
    "\n",
    "    def ReformObsVertex(self):\n",
    "        obs_vertex = []\n",
    "\n",
    "        for obs in self.obs_vertex:\n",
    "            for vertex in obs:\n",
    "                obs_vertex.append(vertex)\n",
    "\n",
    "        self.obs_vertex = obs_vertex\n",
    "\n",
    "    def Steer(self, x_start, x_goal):\n",
    "        dist, theta = self.get_distance_and_angle(x_start, x_goal)\n",
    "        dist = min(self.step_len, dist)\n",
    "        node_new = Node((x_start.x + dist * math.cos(theta),\n",
    "                         x_start.y + dist * math.sin(theta)))\n",
    "        node_new.parent = x_start\n",
    "\n",
    "        return node_new\n",
    "\n",
    "    def Near(self, nodelist, node):\n",
    "        n = len(self.V) + 1\n",
    "        r = 50 * math.sqrt((math.log(n) / n))\n",
    "\n",
    "        dist_table = [(nd.x - node.x) ** 2 + (nd.y - node.y) ** 2 for nd in nodelist]\n",
    "        X_near = [nodelist[ind] for ind in range(len(dist_table)) if dist_table[ind] <= r ** 2 and\n",
    "                  not self.utils.is_collision(node, nodelist[ind])]\n",
    "\n",
    "        return X_near\n",
    "\n",
    "    def Sample(self, goal=None):\n",
    "        if goal is None:\n",
    "            delta = self.utils.delta\n",
    "            goal_sample_rate = self.goal_sample_rate\n",
    "\n",
    "            if np.random.random() > goal_sample_rate:\n",
    "                return Node((np.random.uniform(self.x_range[0] + delta, self.x_range[1] - delta),\n",
    "                             np.random.uniform(self.y_range[0] + delta, self.y_range[1] - delta)))\n",
    "\n",
    "            return self.x_goal\n",
    "        else:\n",
    "            R = self.beacons_radius\n",
    "            r = random.uniform(0, R)\n",
    "            theta = random.uniform(0, 2 * math.pi)\n",
    "            ind = random.randint(0, len(goal) - 1)\n",
    "\n",
    "            return Node((goal[ind][0] + r * math.cos(theta),\n",
    "                         goal[ind][1] + r * math.sin(theta)))\n",
    "\n",
    "    def SampleFreeSpace(self):\n",
    "        delta = self.delta\n",
    "\n",
    "        if np.random.random() > self.goal_sample_rate:\n",
    "            return Node((np.random.uniform(self.x_range[0] + delta, self.x_range[1] - delta),\n",
    "                         np.random.uniform(self.y_range[0] + delta, self.y_range[1] - delta)))\n",
    "\n",
    "        return self.x_goal"
   ]
  },
  {
   "cell_type": "code",
   "execution_count": null,
   "metadata": {
    "scrolled": true
   },
   "outputs": [],
   "source": [
    "### Anytime RRT*\n",
    "\n",
    "+ 优点：可以在任何时候停止搜索并返回当前的最佳路径；能够找到近似最优解\n",
    "+ 缺点：路径质量可能较差；需要进行实时计算"
   ]
  },
  {
   "cell_type": "code",
   "execution_count": null,
   "metadata": {
    "scrolled": true
   },
   "outputs": [],
   "source": [
    "### Closed-Loop RRT*\n",
    "\n",
    "  ![CLRRT*](https://ucc.alicdn.com/pic/developer-ecology/cdzfr5ewdwyaw_d95034d4fed94d628912f065b7066467.gif?x-oss-process=image%2Fresize%2Cw_1400%2Fformat%2Cwebp)\n",
    "\n",
    "+ 优点：能够处理非完整动力学系统和约束条件；路径质量较高\n",
    "+ 缺点：运算速度较慢；可能需要大量的存储空间"
   ]
  },
  {
   "cell_type": "code",
   "execution_count": null,
   "metadata": {
    "scrolled": true
   },
   "outputs": [],
   "source": [
    "### Spline-RRT*\n",
    "\n",
    "+ 优点：通过样条插值提高路径质量；能够找到平滑的路径\n",
    "+ 缺点：运算速度较慢；可能需要大量的存储空间"
   ]
  },
  {
   "cell_type": "code",
   "execution_count": null,
   "metadata": {
    "scrolled": true
   },
   "outputs": [],
   "source": [
    "### Fast Marching Trees (FMT*)\n",
    "\n",
    "![FMT*](https://ucc.alicdn.com/pic/developer-ecology/cdzfr5ewdwyaw_d95034d4fed94d628912f065b7066467.gif?x-oss-process=image%2Fresize%2Cw_1400%2Fformat%2Cwebp)\n",
    "\n",
    "+ 优点：运算速度快；能够找到最短路径\n",
    "+ 缺点：路径质量可能较差；在高维空间中效果可能不理想"
   ]
  },
  {
   "cell_type": "code",
   "execution_count": null,
   "metadata": {
    "scrolled": true
   },
   "outputs": [],
   "source": [
    "### Batch Informed Trees (BIT*)\n",
    "\n",
    "+ 优点：通过批量采样提高搜索效率；能够找到最优路径\n",
    "+ 缺点：运算速度较慢；可能需要大量的存储空间"
   ]
  }
 ],
 "metadata": {
  "kernelspec": {
   "display_name": "Python 3",
   "language": "python",
   "name": "py35-paddle1.2.0"
  },
  "language_info": {
   "codemirror_mode": {
    "name": "ipython",
    "version": 3
   },
   "file_extension": ".py",
   "mimetype": "text/x-python",
   "name": "python",
   "nbconvert_exporter": "python",
   "pygments_lexer": "ipython3",
   "version": "3.10.10"
  }
 },
 "nbformat": 4,
 "nbformat_minor": 4
}
