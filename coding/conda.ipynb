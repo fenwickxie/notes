{
 "cells": [
  {
   "cell_type": "markdown",
   "metadata": {},
   "source": [
    "# conda tips\n"
   ]
  },
  {
   "cell_type": "markdown",
   "metadata": {},
   "source": [
    "[!warning]最近在安装的anaconda中使用pip是，蹦出一些警告：\n",
    "WARNING: Ignoring invalid distribution -ip (d:\\apps\\anaconda\\lib\\site-packages)\n",
    "\n",
    "[!tips]\n",
    "解决方法：\n",
    "找到警告信息中报错的目录，然后删掉~开头的文件夹，那种事之前安装插件失败/中途退出，导致插件安装出现异常导致的"
   ]
  }
 ],
 "metadata": {
  "language_info": {
   "name": "python"
  }
 },
 "nbformat": 4,
 "nbformat_minor": 2
}
