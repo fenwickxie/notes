{
 "cells": [
  {
   "cell_type": "markdown",
   "metadata": {},
   "source": [
    "# 时间序列预测 \n",
    "1. 时间序列预测是机器学习中的一个重要任务，它涉及到根据过去的数据预测未来的数据。时间序列预测可以用于各种领域，如金融、气象、生物信息学等。"
   ]
  }
 ],
 "metadata": {
  "kernelspec": {
   "display_name": "python39",
   "language": "python",
   "name": "python3"
  },
  "language_info": {
   "name": "python",
   "version": "3.9.20"
  }
 },
 "nbformat": 4,
 "nbformat_minor": 2
}
